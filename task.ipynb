{
  "nbformat": 4,
  "nbformat_minor": 0,
  "metadata": {
    "kernelspec": {
      "display_name": "Python 3",
      "language": "python",
      "name": "python3"
    },
    "language_info": {
      "codemirror_mode": {
        "name": "ipython",
        "version": 3
      },
      "file_extension": ".py",
      "mimetype": "text/x-python",
      "name": "python",
      "nbconvert_exporter": "python",
      "pygments_lexer": "ipython3",
      "version": "3.7.2"
    },
    "colab": {
      "name": "task.ipynb",
      "provenance": [],
      "collapsed_sections": [],
      "include_colab_link": true
    },
    "accelerator": "GPU"
  },
  "cells": [
    {
      "cell_type": "markdown",
      "metadata": {
        "id": "view-in-github",
        "colab_type": "text"
      },
      "source": [
        "<a href=\"https://colab.research.google.com/github/aldnoahh/customer_churn_solution_tf_keras/blob/main/task.ipynb\" target=\"_parent\"><img src=\"https://colab.research.google.com/assets/colab-badge.svg\" alt=\"Open In Colab\"/></a>"
      ]
    },
    {
      "cell_type": "markdown",
      "metadata": {
        "id": "x3XkifK29uU3"
      },
      "source": [
        "# Customer Churn Problem Solution using Keras and Tensorflow\n"
      ]
    },
    {
      "cell_type": "markdown",
      "metadata": {
        "id": "4If-5H6F9uU6"
      },
      "source": [
        "### Importing the data"
      ]
    },
    {
      "cell_type": "code",
      "metadata": {
        "id": "opgQsTXj9uU7"
      },
      "source": [
        "# use these links to do so:\n",
        "import tensorflow as tf\n",
        "import numpy as np\n",
        "import pandas as pd\n",
        "from matplotlib import pyplot as plt\n",
        "from sklearn.model_selection import train_test_split\n",
        "import keras\n",
        "from keras.models import Sequential\n",
        "from keras.layers import InputLayer, Dense, Dropout\n",
        "from keras.constraints import maxnorm\n",
        "from keras.layers.normalization import BatchNormalization"
      ],
      "execution_count": null,
      "outputs": []
    },
    {
      "cell_type": "code",
      "metadata": {
        "id": "Fph09xYdlU1x"
      },
      "source": [
        "churn = pd.read_csv('/content/Churn.csv')"
      ],
      "execution_count": null,
      "outputs": []
    },
    {
      "cell_type": "markdown",
      "metadata": {
        "id": "WlBNh2sb9uU7"
      },
      "source": [
        "### Understanding the data"
      ]
    },
    {
      "cell_type": "code",
      "metadata": {
        "colab": {
          "base_uri": "https://localhost:8080/",
          "height": 301
        },
        "id": "jUOBs_ac9uU8",
        "outputId": "f6e131ec-d7ff-47d6-84b1-b71185d01768"
      },
      "source": [
        "#showing dataset\n",
        "churn.head()"
      ],
      "execution_count": null,
      "outputs": [
        {
          "output_type": "execute_result",
          "data": {
            "text/html": [
              "<div>\n",
              "<style scoped>\n",
              "    .dataframe tbody tr th:only-of-type {\n",
              "        vertical-align: middle;\n",
              "    }\n",
              "\n",
              "    .dataframe tbody tr th {\n",
              "        vertical-align: top;\n",
              "    }\n",
              "\n",
              "    .dataframe thead th {\n",
              "        text-align: right;\n",
              "    }\n",
              "</style>\n",
              "<table border=\"1\" class=\"dataframe\">\n",
              "  <thead>\n",
              "    <tr style=\"text-align: right;\">\n",
              "      <th></th>\n",
              "      <th>customerID</th>\n",
              "      <th>gender</th>\n",
              "      <th>SeniorCitizen</th>\n",
              "      <th>Partner</th>\n",
              "      <th>Dependents</th>\n",
              "      <th>tenure</th>\n",
              "      <th>PhoneService</th>\n",
              "      <th>MultipleLines</th>\n",
              "      <th>InternetService</th>\n",
              "      <th>OnlineSecurity</th>\n",
              "      <th>OnlineBackup</th>\n",
              "      <th>DeviceProtection</th>\n",
              "      <th>TechSupport</th>\n",
              "      <th>StreamingTV</th>\n",
              "      <th>StreamingMovies</th>\n",
              "      <th>Contract</th>\n",
              "      <th>PaperlessBilling</th>\n",
              "      <th>PaymentMethod</th>\n",
              "      <th>MonthlyCharges</th>\n",
              "      <th>TotalCharges</th>\n",
              "      <th>Churn</th>\n",
              "    </tr>\n",
              "  </thead>\n",
              "  <tbody>\n",
              "    <tr>\n",
              "      <th>0</th>\n",
              "      <td>7590-VHVEG</td>\n",
              "      <td>Female</td>\n",
              "      <td>0</td>\n",
              "      <td>Yes</td>\n",
              "      <td>No</td>\n",
              "      <td>1</td>\n",
              "      <td>No</td>\n",
              "      <td>No phone service</td>\n",
              "      <td>DSL</td>\n",
              "      <td>No</td>\n",
              "      <td>Yes</td>\n",
              "      <td>No</td>\n",
              "      <td>No</td>\n",
              "      <td>No</td>\n",
              "      <td>No</td>\n",
              "      <td>Month-to-month</td>\n",
              "      <td>Yes</td>\n",
              "      <td>Electronic check</td>\n",
              "      <td>29.85</td>\n",
              "      <td>29.85</td>\n",
              "      <td>No</td>\n",
              "    </tr>\n",
              "    <tr>\n",
              "      <th>1</th>\n",
              "      <td>5575-GNVDE</td>\n",
              "      <td>Male</td>\n",
              "      <td>0</td>\n",
              "      <td>No</td>\n",
              "      <td>No</td>\n",
              "      <td>34</td>\n",
              "      <td>Yes</td>\n",
              "      <td>No</td>\n",
              "      <td>DSL</td>\n",
              "      <td>Yes</td>\n",
              "      <td>No</td>\n",
              "      <td>Yes</td>\n",
              "      <td>No</td>\n",
              "      <td>No</td>\n",
              "      <td>No</td>\n",
              "      <td>One year</td>\n",
              "      <td>No</td>\n",
              "      <td>Mailed check</td>\n",
              "      <td>56.95</td>\n",
              "      <td>1889.5</td>\n",
              "      <td>No</td>\n",
              "    </tr>\n",
              "    <tr>\n",
              "      <th>2</th>\n",
              "      <td>3668-QPYBK</td>\n",
              "      <td>Male</td>\n",
              "      <td>0</td>\n",
              "      <td>No</td>\n",
              "      <td>No</td>\n",
              "      <td>2</td>\n",
              "      <td>Yes</td>\n",
              "      <td>No</td>\n",
              "      <td>DSL</td>\n",
              "      <td>Yes</td>\n",
              "      <td>Yes</td>\n",
              "      <td>No</td>\n",
              "      <td>No</td>\n",
              "      <td>No</td>\n",
              "      <td>No</td>\n",
              "      <td>Month-to-month</td>\n",
              "      <td>Yes</td>\n",
              "      <td>Mailed check</td>\n",
              "      <td>53.85</td>\n",
              "      <td>108.15</td>\n",
              "      <td>Yes</td>\n",
              "    </tr>\n",
              "    <tr>\n",
              "      <th>3</th>\n",
              "      <td>7795-CFOCW</td>\n",
              "      <td>Male</td>\n",
              "      <td>0</td>\n",
              "      <td>No</td>\n",
              "      <td>No</td>\n",
              "      <td>45</td>\n",
              "      <td>No</td>\n",
              "      <td>No phone service</td>\n",
              "      <td>DSL</td>\n",
              "      <td>Yes</td>\n",
              "      <td>No</td>\n",
              "      <td>Yes</td>\n",
              "      <td>Yes</td>\n",
              "      <td>No</td>\n",
              "      <td>No</td>\n",
              "      <td>One year</td>\n",
              "      <td>No</td>\n",
              "      <td>Bank transfer (automatic)</td>\n",
              "      <td>42.30</td>\n",
              "      <td>1840.75</td>\n",
              "      <td>No</td>\n",
              "    </tr>\n",
              "    <tr>\n",
              "      <th>4</th>\n",
              "      <td>9237-HQITU</td>\n",
              "      <td>Female</td>\n",
              "      <td>0</td>\n",
              "      <td>No</td>\n",
              "      <td>No</td>\n",
              "      <td>2</td>\n",
              "      <td>Yes</td>\n",
              "      <td>No</td>\n",
              "      <td>Fiber optic</td>\n",
              "      <td>No</td>\n",
              "      <td>No</td>\n",
              "      <td>No</td>\n",
              "      <td>No</td>\n",
              "      <td>No</td>\n",
              "      <td>No</td>\n",
              "      <td>Month-to-month</td>\n",
              "      <td>Yes</td>\n",
              "      <td>Electronic check</td>\n",
              "      <td>70.70</td>\n",
              "      <td>151.65</td>\n",
              "      <td>Yes</td>\n",
              "    </tr>\n",
              "  </tbody>\n",
              "</table>\n",
              "</div>"
            ],
            "text/plain": [
              "   customerID  gender  SeniorCitizen  ... MonthlyCharges TotalCharges  Churn\n",
              "0  7590-VHVEG  Female              0  ...          29.85        29.85     No\n",
              "1  5575-GNVDE    Male              0  ...          56.95       1889.5     No\n",
              "2  3668-QPYBK    Male              0  ...          53.85       108.15    Yes\n",
              "3  7795-CFOCW    Male              0  ...          42.30      1840.75     No\n",
              "4  9237-HQITU  Female              0  ...          70.70       151.65    Yes\n",
              "\n",
              "[5 rows x 21 columns]"
            ]
          },
          "metadata": {
            "tags": []
          },
          "execution_count": 3
        }
      ]
    },
    {
      "cell_type": "code",
      "metadata": {
        "colab": {
          "base_uri": "https://localhost:8080/",
          "height": 301
        },
        "id": "4zSBinjC9uU8",
        "outputId": "c00911c5-b6bf-4be4-dc3c-f6964440da7f"
      },
      "source": [
        "#seeing end of dataset\n",
        "churn.tail()"
      ],
      "execution_count": null,
      "outputs": [
        {
          "output_type": "execute_result",
          "data": {
            "text/html": [
              "<div>\n",
              "<style scoped>\n",
              "    .dataframe tbody tr th:only-of-type {\n",
              "        vertical-align: middle;\n",
              "    }\n",
              "\n",
              "    .dataframe tbody tr th {\n",
              "        vertical-align: top;\n",
              "    }\n",
              "\n",
              "    .dataframe thead th {\n",
              "        text-align: right;\n",
              "    }\n",
              "</style>\n",
              "<table border=\"1\" class=\"dataframe\">\n",
              "  <thead>\n",
              "    <tr style=\"text-align: right;\">\n",
              "      <th></th>\n",
              "      <th>customerID</th>\n",
              "      <th>gender</th>\n",
              "      <th>SeniorCitizen</th>\n",
              "      <th>Partner</th>\n",
              "      <th>Dependents</th>\n",
              "      <th>tenure</th>\n",
              "      <th>PhoneService</th>\n",
              "      <th>MultipleLines</th>\n",
              "      <th>InternetService</th>\n",
              "      <th>OnlineSecurity</th>\n",
              "      <th>OnlineBackup</th>\n",
              "      <th>DeviceProtection</th>\n",
              "      <th>TechSupport</th>\n",
              "      <th>StreamingTV</th>\n",
              "      <th>StreamingMovies</th>\n",
              "      <th>Contract</th>\n",
              "      <th>PaperlessBilling</th>\n",
              "      <th>PaymentMethod</th>\n",
              "      <th>MonthlyCharges</th>\n",
              "      <th>TotalCharges</th>\n",
              "      <th>Churn</th>\n",
              "    </tr>\n",
              "  </thead>\n",
              "  <tbody>\n",
              "    <tr>\n",
              "      <th>7038</th>\n",
              "      <td>6840-RESVB</td>\n",
              "      <td>Male</td>\n",
              "      <td>0</td>\n",
              "      <td>Yes</td>\n",
              "      <td>Yes</td>\n",
              "      <td>24</td>\n",
              "      <td>Yes</td>\n",
              "      <td>Yes</td>\n",
              "      <td>DSL</td>\n",
              "      <td>Yes</td>\n",
              "      <td>No</td>\n",
              "      <td>Yes</td>\n",
              "      <td>Yes</td>\n",
              "      <td>Yes</td>\n",
              "      <td>Yes</td>\n",
              "      <td>One year</td>\n",
              "      <td>Yes</td>\n",
              "      <td>Mailed check</td>\n",
              "      <td>84.80</td>\n",
              "      <td>1990.5</td>\n",
              "      <td>No</td>\n",
              "    </tr>\n",
              "    <tr>\n",
              "      <th>7039</th>\n",
              "      <td>2234-XADUH</td>\n",
              "      <td>Female</td>\n",
              "      <td>0</td>\n",
              "      <td>Yes</td>\n",
              "      <td>Yes</td>\n",
              "      <td>72</td>\n",
              "      <td>Yes</td>\n",
              "      <td>Yes</td>\n",
              "      <td>Fiber optic</td>\n",
              "      <td>No</td>\n",
              "      <td>Yes</td>\n",
              "      <td>Yes</td>\n",
              "      <td>No</td>\n",
              "      <td>Yes</td>\n",
              "      <td>Yes</td>\n",
              "      <td>One year</td>\n",
              "      <td>Yes</td>\n",
              "      <td>Credit card (automatic)</td>\n",
              "      <td>103.20</td>\n",
              "      <td>7362.9</td>\n",
              "      <td>No</td>\n",
              "    </tr>\n",
              "    <tr>\n",
              "      <th>7040</th>\n",
              "      <td>4801-JZAZL</td>\n",
              "      <td>Female</td>\n",
              "      <td>0</td>\n",
              "      <td>Yes</td>\n",
              "      <td>Yes</td>\n",
              "      <td>11</td>\n",
              "      <td>No</td>\n",
              "      <td>No phone service</td>\n",
              "      <td>DSL</td>\n",
              "      <td>Yes</td>\n",
              "      <td>No</td>\n",
              "      <td>No</td>\n",
              "      <td>No</td>\n",
              "      <td>No</td>\n",
              "      <td>No</td>\n",
              "      <td>Month-to-month</td>\n",
              "      <td>Yes</td>\n",
              "      <td>Electronic check</td>\n",
              "      <td>29.60</td>\n",
              "      <td>346.45</td>\n",
              "      <td>No</td>\n",
              "    </tr>\n",
              "    <tr>\n",
              "      <th>7041</th>\n",
              "      <td>8361-LTMKD</td>\n",
              "      <td>Male</td>\n",
              "      <td>1</td>\n",
              "      <td>Yes</td>\n",
              "      <td>No</td>\n",
              "      <td>4</td>\n",
              "      <td>Yes</td>\n",
              "      <td>Yes</td>\n",
              "      <td>Fiber optic</td>\n",
              "      <td>No</td>\n",
              "      <td>No</td>\n",
              "      <td>No</td>\n",
              "      <td>No</td>\n",
              "      <td>No</td>\n",
              "      <td>No</td>\n",
              "      <td>Month-to-month</td>\n",
              "      <td>Yes</td>\n",
              "      <td>Mailed check</td>\n",
              "      <td>74.40</td>\n",
              "      <td>306.6</td>\n",
              "      <td>Yes</td>\n",
              "    </tr>\n",
              "    <tr>\n",
              "      <th>7042</th>\n",
              "      <td>3186-AJIEK</td>\n",
              "      <td>Male</td>\n",
              "      <td>0</td>\n",
              "      <td>No</td>\n",
              "      <td>No</td>\n",
              "      <td>66</td>\n",
              "      <td>Yes</td>\n",
              "      <td>No</td>\n",
              "      <td>Fiber optic</td>\n",
              "      <td>Yes</td>\n",
              "      <td>No</td>\n",
              "      <td>Yes</td>\n",
              "      <td>Yes</td>\n",
              "      <td>Yes</td>\n",
              "      <td>Yes</td>\n",
              "      <td>Two year</td>\n",
              "      <td>Yes</td>\n",
              "      <td>Bank transfer (automatic)</td>\n",
              "      <td>105.65</td>\n",
              "      <td>6844.5</td>\n",
              "      <td>No</td>\n",
              "    </tr>\n",
              "  </tbody>\n",
              "</table>\n",
              "</div>"
            ],
            "text/plain": [
              "      customerID  gender  SeniorCitizen  ... MonthlyCharges TotalCharges  Churn\n",
              "7038  6840-RESVB    Male              0  ...          84.80       1990.5     No\n",
              "7039  2234-XADUH  Female              0  ...         103.20       7362.9     No\n",
              "7040  4801-JZAZL  Female              0  ...          29.60       346.45     No\n",
              "7041  8361-LTMKD    Male              1  ...          74.40        306.6    Yes\n",
              "7042  3186-AJIEK    Male              0  ...         105.65       6844.5     No\n",
              "\n",
              "[5 rows x 21 columns]"
            ]
          },
          "metadata": {
            "tags": []
          },
          "execution_count": 4
        }
      ]
    },
    {
      "cell_type": "markdown",
      "metadata": {
        "id": "Z0X4HaK49uU-"
      },
      "source": [
        "### Data Manipulation"
      ]
    },
    {
      "cell_type": "code",
      "metadata": {
        "id": "KoSa6dV19uU-"
      },
      "source": [
        "#preprocessing for categorial data\n",
        "churn.SeniorCitizen.replace([0, 1], [\"No\", \"Yes\"], inplace= True)\n",
        "churn.TotalCharges.replace([\" \"], [\"0\"], inplace= True)\n",
        "churn.TotalCharges = churn.TotalCharges.astype(float)\n",
        "churn.drop(\"customerID\", axis= 1, inplace= True)\n",
        "churn.Churn.replace([\"Yes\", \"No\"], [1, 0], inplace= True)"
      ],
      "execution_count": null,
      "outputs": []
    },
    {
      "cell_type": "code",
      "metadata": {
        "id": "fPw9JWvp9uU-"
      },
      "source": [
        "churn = pd.get_dummies(churn)"
      ],
      "execution_count": null,
      "outputs": []
    },
    {
      "cell_type": "code",
      "metadata": {
        "id": "HCikqp_d9uU_"
      },
      "source": [
        "X = churn.drop(\"Churn\", axis= 1)"
      ],
      "execution_count": null,
      "outputs": []
    },
    {
      "cell_type": "code",
      "metadata": {
        "id": "rVbgVRrP9uU_"
      },
      "source": [
        "y = churn.Churn"
      ],
      "execution_count": null,
      "outputs": []
    },
    {
      "cell_type": "markdown",
      "metadata": {
        "id": "Q5AeSrh_9uU_"
      },
      "source": [
        "### Data Visualization"
      ]
    },
    {
      "cell_type": "code",
      "metadata": {
        "colab": {
          "base_uri": "https://localhost:8080/",
          "height": 251
        },
        "id": "Kjo4mT2f9uVA",
        "outputId": "e18ae8f3-0742-4506-db45-1a604b201ea0"
      },
      "source": [
        "#preprocessed dataframe\n",
        "churn.head()"
      ],
      "execution_count": null,
      "outputs": [
        {
          "output_type": "execute_result",
          "data": {
            "text/html": [
              "<div>\n",
              "<style scoped>\n",
              "    .dataframe tbody tr th:only-of-type {\n",
              "        vertical-align: middle;\n",
              "    }\n",
              "\n",
              "    .dataframe tbody tr th {\n",
              "        vertical-align: top;\n",
              "    }\n",
              "\n",
              "    .dataframe thead th {\n",
              "        text-align: right;\n",
              "    }\n",
              "</style>\n",
              "<table border=\"1\" class=\"dataframe\">\n",
              "  <thead>\n",
              "    <tr style=\"text-align: right;\">\n",
              "      <th></th>\n",
              "      <th>tenure</th>\n",
              "      <th>MonthlyCharges</th>\n",
              "      <th>TotalCharges</th>\n",
              "      <th>Churn</th>\n",
              "      <th>gender_Female</th>\n",
              "      <th>gender_Male</th>\n",
              "      <th>SeniorCitizen_No</th>\n",
              "      <th>SeniorCitizen_Yes</th>\n",
              "      <th>Partner_No</th>\n",
              "      <th>Partner_Yes</th>\n",
              "      <th>Dependents_No</th>\n",
              "      <th>Dependents_Yes</th>\n",
              "      <th>PhoneService_No</th>\n",
              "      <th>PhoneService_Yes</th>\n",
              "      <th>MultipleLines_No</th>\n",
              "      <th>MultipleLines_No phone service</th>\n",
              "      <th>MultipleLines_Yes</th>\n",
              "      <th>InternetService_DSL</th>\n",
              "      <th>InternetService_Fiber optic</th>\n",
              "      <th>InternetService_No</th>\n",
              "      <th>OnlineSecurity_No</th>\n",
              "      <th>OnlineSecurity_No internet service</th>\n",
              "      <th>OnlineSecurity_Yes</th>\n",
              "      <th>OnlineBackup_No</th>\n",
              "      <th>OnlineBackup_No internet service</th>\n",
              "      <th>OnlineBackup_Yes</th>\n",
              "      <th>DeviceProtection_No</th>\n",
              "      <th>DeviceProtection_No internet service</th>\n",
              "      <th>DeviceProtection_Yes</th>\n",
              "      <th>TechSupport_No</th>\n",
              "      <th>TechSupport_No internet service</th>\n",
              "      <th>TechSupport_Yes</th>\n",
              "      <th>StreamingTV_No</th>\n",
              "      <th>StreamingTV_No internet service</th>\n",
              "      <th>StreamingTV_Yes</th>\n",
              "      <th>StreamingMovies_No</th>\n",
              "      <th>StreamingMovies_No internet service</th>\n",
              "      <th>StreamingMovies_Yes</th>\n",
              "      <th>Contract_Month-to-month</th>\n",
              "      <th>Contract_One year</th>\n",
              "      <th>Contract_Two year</th>\n",
              "      <th>PaperlessBilling_No</th>\n",
              "      <th>PaperlessBilling_Yes</th>\n",
              "      <th>PaymentMethod_Bank transfer (automatic)</th>\n",
              "      <th>PaymentMethod_Credit card (automatic)</th>\n",
              "      <th>PaymentMethod_Electronic check</th>\n",
              "      <th>PaymentMethod_Mailed check</th>\n",
              "    </tr>\n",
              "  </thead>\n",
              "  <tbody>\n",
              "    <tr>\n",
              "      <th>0</th>\n",
              "      <td>1</td>\n",
              "      <td>29.85</td>\n",
              "      <td>29.85</td>\n",
              "      <td>0</td>\n",
              "      <td>1</td>\n",
              "      <td>0</td>\n",
              "      <td>1</td>\n",
              "      <td>0</td>\n",
              "      <td>0</td>\n",
              "      <td>1</td>\n",
              "      <td>1</td>\n",
              "      <td>0</td>\n",
              "      <td>1</td>\n",
              "      <td>0</td>\n",
              "      <td>0</td>\n",
              "      <td>1</td>\n",
              "      <td>0</td>\n",
              "      <td>1</td>\n",
              "      <td>0</td>\n",
              "      <td>0</td>\n",
              "      <td>1</td>\n",
              "      <td>0</td>\n",
              "      <td>0</td>\n",
              "      <td>0</td>\n",
              "      <td>0</td>\n",
              "      <td>1</td>\n",
              "      <td>1</td>\n",
              "      <td>0</td>\n",
              "      <td>0</td>\n",
              "      <td>1</td>\n",
              "      <td>0</td>\n",
              "      <td>0</td>\n",
              "      <td>1</td>\n",
              "      <td>0</td>\n",
              "      <td>0</td>\n",
              "      <td>1</td>\n",
              "      <td>0</td>\n",
              "      <td>0</td>\n",
              "      <td>1</td>\n",
              "      <td>0</td>\n",
              "      <td>0</td>\n",
              "      <td>0</td>\n",
              "      <td>1</td>\n",
              "      <td>0</td>\n",
              "      <td>0</td>\n",
              "      <td>1</td>\n",
              "      <td>0</td>\n",
              "    </tr>\n",
              "    <tr>\n",
              "      <th>1</th>\n",
              "      <td>34</td>\n",
              "      <td>56.95</td>\n",
              "      <td>1889.50</td>\n",
              "      <td>0</td>\n",
              "      <td>0</td>\n",
              "      <td>1</td>\n",
              "      <td>1</td>\n",
              "      <td>0</td>\n",
              "      <td>1</td>\n",
              "      <td>0</td>\n",
              "      <td>1</td>\n",
              "      <td>0</td>\n",
              "      <td>0</td>\n",
              "      <td>1</td>\n",
              "      <td>1</td>\n",
              "      <td>0</td>\n",
              "      <td>0</td>\n",
              "      <td>1</td>\n",
              "      <td>0</td>\n",
              "      <td>0</td>\n",
              "      <td>0</td>\n",
              "      <td>0</td>\n",
              "      <td>1</td>\n",
              "      <td>1</td>\n",
              "      <td>0</td>\n",
              "      <td>0</td>\n",
              "      <td>0</td>\n",
              "      <td>0</td>\n",
              "      <td>1</td>\n",
              "      <td>1</td>\n",
              "      <td>0</td>\n",
              "      <td>0</td>\n",
              "      <td>1</td>\n",
              "      <td>0</td>\n",
              "      <td>0</td>\n",
              "      <td>1</td>\n",
              "      <td>0</td>\n",
              "      <td>0</td>\n",
              "      <td>0</td>\n",
              "      <td>1</td>\n",
              "      <td>0</td>\n",
              "      <td>1</td>\n",
              "      <td>0</td>\n",
              "      <td>0</td>\n",
              "      <td>0</td>\n",
              "      <td>0</td>\n",
              "      <td>1</td>\n",
              "    </tr>\n",
              "    <tr>\n",
              "      <th>2</th>\n",
              "      <td>2</td>\n",
              "      <td>53.85</td>\n",
              "      <td>108.15</td>\n",
              "      <td>1</td>\n",
              "      <td>0</td>\n",
              "      <td>1</td>\n",
              "      <td>1</td>\n",
              "      <td>0</td>\n",
              "      <td>1</td>\n",
              "      <td>0</td>\n",
              "      <td>1</td>\n",
              "      <td>0</td>\n",
              "      <td>0</td>\n",
              "      <td>1</td>\n",
              "      <td>1</td>\n",
              "      <td>0</td>\n",
              "      <td>0</td>\n",
              "      <td>1</td>\n",
              "      <td>0</td>\n",
              "      <td>0</td>\n",
              "      <td>0</td>\n",
              "      <td>0</td>\n",
              "      <td>1</td>\n",
              "      <td>0</td>\n",
              "      <td>0</td>\n",
              "      <td>1</td>\n",
              "      <td>1</td>\n",
              "      <td>0</td>\n",
              "      <td>0</td>\n",
              "      <td>1</td>\n",
              "      <td>0</td>\n",
              "      <td>0</td>\n",
              "      <td>1</td>\n",
              "      <td>0</td>\n",
              "      <td>0</td>\n",
              "      <td>1</td>\n",
              "      <td>0</td>\n",
              "      <td>0</td>\n",
              "      <td>1</td>\n",
              "      <td>0</td>\n",
              "      <td>0</td>\n",
              "      <td>0</td>\n",
              "      <td>1</td>\n",
              "      <td>0</td>\n",
              "      <td>0</td>\n",
              "      <td>0</td>\n",
              "      <td>1</td>\n",
              "    </tr>\n",
              "    <tr>\n",
              "      <th>3</th>\n",
              "      <td>45</td>\n",
              "      <td>42.30</td>\n",
              "      <td>1840.75</td>\n",
              "      <td>0</td>\n",
              "      <td>0</td>\n",
              "      <td>1</td>\n",
              "      <td>1</td>\n",
              "      <td>0</td>\n",
              "      <td>1</td>\n",
              "      <td>0</td>\n",
              "      <td>1</td>\n",
              "      <td>0</td>\n",
              "      <td>1</td>\n",
              "      <td>0</td>\n",
              "      <td>0</td>\n",
              "      <td>1</td>\n",
              "      <td>0</td>\n",
              "      <td>1</td>\n",
              "      <td>0</td>\n",
              "      <td>0</td>\n",
              "      <td>0</td>\n",
              "      <td>0</td>\n",
              "      <td>1</td>\n",
              "      <td>1</td>\n",
              "      <td>0</td>\n",
              "      <td>0</td>\n",
              "      <td>0</td>\n",
              "      <td>0</td>\n",
              "      <td>1</td>\n",
              "      <td>0</td>\n",
              "      <td>0</td>\n",
              "      <td>1</td>\n",
              "      <td>1</td>\n",
              "      <td>0</td>\n",
              "      <td>0</td>\n",
              "      <td>1</td>\n",
              "      <td>0</td>\n",
              "      <td>0</td>\n",
              "      <td>0</td>\n",
              "      <td>1</td>\n",
              "      <td>0</td>\n",
              "      <td>1</td>\n",
              "      <td>0</td>\n",
              "      <td>1</td>\n",
              "      <td>0</td>\n",
              "      <td>0</td>\n",
              "      <td>0</td>\n",
              "    </tr>\n",
              "    <tr>\n",
              "      <th>4</th>\n",
              "      <td>2</td>\n",
              "      <td>70.70</td>\n",
              "      <td>151.65</td>\n",
              "      <td>1</td>\n",
              "      <td>1</td>\n",
              "      <td>0</td>\n",
              "      <td>1</td>\n",
              "      <td>0</td>\n",
              "      <td>1</td>\n",
              "      <td>0</td>\n",
              "      <td>1</td>\n",
              "      <td>0</td>\n",
              "      <td>0</td>\n",
              "      <td>1</td>\n",
              "      <td>1</td>\n",
              "      <td>0</td>\n",
              "      <td>0</td>\n",
              "      <td>0</td>\n",
              "      <td>1</td>\n",
              "      <td>0</td>\n",
              "      <td>1</td>\n",
              "      <td>0</td>\n",
              "      <td>0</td>\n",
              "      <td>1</td>\n",
              "      <td>0</td>\n",
              "      <td>0</td>\n",
              "      <td>1</td>\n",
              "      <td>0</td>\n",
              "      <td>0</td>\n",
              "      <td>1</td>\n",
              "      <td>0</td>\n",
              "      <td>0</td>\n",
              "      <td>1</td>\n",
              "      <td>0</td>\n",
              "      <td>0</td>\n",
              "      <td>1</td>\n",
              "      <td>0</td>\n",
              "      <td>0</td>\n",
              "      <td>1</td>\n",
              "      <td>0</td>\n",
              "      <td>0</td>\n",
              "      <td>0</td>\n",
              "      <td>1</td>\n",
              "      <td>0</td>\n",
              "      <td>0</td>\n",
              "      <td>1</td>\n",
              "      <td>0</td>\n",
              "    </tr>\n",
              "  </tbody>\n",
              "</table>\n",
              "</div>"
            ],
            "text/plain": [
              "   tenure  ...  PaymentMethod_Mailed check\n",
              "0       1  ...                           0\n",
              "1      34  ...                           1\n",
              "2       2  ...                           1\n",
              "3      45  ...                           0\n",
              "4       2  ...                           0\n",
              "\n",
              "[5 rows x 47 columns]"
            ]
          },
          "metadata": {
            "tags": []
          },
          "execution_count": 9
        }
      ]
    },
    {
      "cell_type": "markdown",
      "metadata": {
        "id": "z6JneOOl9uVB"
      },
      "source": [
        "### Implement Machine Learning Models"
      ]
    },
    {
      "cell_type": "code",
      "metadata": {
        "id": "fKuO7FCergda"
      },
      "source": [
        "##experimentation with different hyperparameters with fresh instance of model\n",
        "\n",
        "#tf.keras.backend.clear_session()"
      ],
      "execution_count": null,
      "outputs": []
    },
    {
      "cell_type": "code",
      "metadata": {
        "id": "9x4dwmnv9uVB"
      },
      "source": [
        "X_train, X_test, y_train, y_test = train_test_split(X, y, test_size= 0.15)"
      ],
      "execution_count": null,
      "outputs": []
    },
    {
      "cell_type": "code",
      "metadata": {
        "id": "ccleQy8f9uVB"
      },
      "source": [
        "model = Sequential()\n",
        "model.add(Dense(128, input_dim=46, activation='relu', kernel_constraint=maxnorm(3)))  #l2 reg\n",
        "model.add(Dropout(rate=0.2))\n",
        "#model.add(BatchNormalization())\n",
        "model.add(Dense(64, activation='relu'))\n",
        "model.add(Dropout(rate=0.1))\n",
        "model.add(BatchNormalization())\n",
        "model.add(Dense(16, activation='relu'))\n",
        "model.add(Dropout(rate=0.1))\n",
        "model.add(Dense(1, activation='sigmoid'))"
      ],
      "execution_count": null,
      "outputs": []
    },
    {
      "cell_type": "code",
      "metadata": {
        "id": "OsolGp3itdrh"
      },
      "source": [
        "from keras import backend as Ke\n",
        "\n",
        "def recall_m(y_true, y_pred):\n",
        "    true_positives = Ke.sum(Ke.round(Ke.clip(y_true * y_pred, 0, 1)))\n",
        "    possible_positives = Ke.sum(Ke.round(Ke.clip(y_true, 0, 1)))\n",
        "    recall = true_positives / (possible_positives + Ke.epsilon())\n",
        "    return recall\n",
        "\n",
        "def precision_m(y_true, y_pred):\n",
        "    true_positives = Ke.sum(Ke.round(Ke.clip(y_true * y_pred, 0, 1)))\n",
        "    predicted_positives = Ke.sum(Ke.round(Ke.clip(y_pred, 0, 1)))\n",
        "    precision = true_positives / (predicted_positives + Ke.epsilon())\n",
        "    return precision\n",
        "\n",
        "def f1_m(y_true, y_pred):\n",
        "    precision = precision_m(y_true, y_pred)\n",
        "    recall = recall_m(y_true, y_pred)\n",
        "    return 2*((precision*recall)/(precision+recall+Ke.epsilon()))\n"
      ],
      "execution_count": null,
      "outputs": []
    },
    {
      "cell_type": "code",
      "metadata": {
        "id": "--TxFn4x9uVB"
      },
      "source": [
        "model.compile(loss = \"binary_crossentropy\", optimizer = 'rmsprop', metrics=['accuracy',f1_m,precision_m, recall_m])"
      ],
      "execution_count": null,
      "outputs": []
    },
    {
      "cell_type": "code",
      "metadata": {
        "colab": {
          "base_uri": "https://localhost:8080/"
        },
        "id": "zWU0JblM9uVB",
        "outputId": "8b8511d2-c174-41e1-c50a-74e3ce689047"
      },
      "source": [
        "history = model.fit(X_train, y_train, validation_data=(X_test, y_test), epochs=50, batch_size=25)"
      ],
      "execution_count": null,
      "outputs": [
        {
          "output_type": "stream",
          "text": [
            "Epoch 1/50\n",
            "240/240 [==============================] - 6s 9ms/step - loss: 0.6581 - accuracy: 0.6183 - f1_m: 0.2582 - precision_m: 0.3282 - recall_m: 0.3095 - val_loss: 0.5491 - val_accuracy: 0.7701 - val_f1_m: 0.0000e+00 - val_precision_m: 0.0000e+00 - val_recall_m: 0.0000e+00\n",
            "Epoch 2/50\n",
            "240/240 [==============================] - 1s 6ms/step - loss: 0.5458 - accuracy: 0.7581 - f1_m: 0.3515 - precision_m: 0.6465 - recall_m: 0.2625 - val_loss: 0.4690 - val_accuracy: 0.7909 - val_f1_m: 0.1819 - val_precision_m: 0.5233 - val_recall_m: 0.1160\n",
            "Epoch 3/50\n",
            "240/240 [==============================] - 1s 6ms/step - loss: 0.5221 - accuracy: 0.7666 - f1_m: 0.3759 - precision_m: 0.6381 - recall_m: 0.2868 - val_loss: 0.4510 - val_accuracy: 0.7919 - val_f1_m: 0.1905 - val_precision_m: 0.5233 - val_recall_m: 0.1220\n",
            "Epoch 4/50\n",
            "240/240 [==============================] - 1s 6ms/step - loss: 0.5131 - accuracy: 0.7670 - f1_m: 0.3997 - precision_m: 0.6210 - recall_m: 0.3156 - val_loss: 0.4513 - val_accuracy: 0.8202 - val_f1_m: 0.4760 - val_precision_m: 0.6333 - val_recall_m: 0.4166\n",
            "Epoch 5/50\n",
            "240/240 [==============================] - 1s 6ms/step - loss: 0.5100 - accuracy: 0.7621 - f1_m: 0.4228 - precision_m: 0.5978 - recall_m: 0.3536 - val_loss: 0.4196 - val_accuracy: 0.8136 - val_f1_m: 0.4494 - val_precision_m: 0.6316 - val_recall_m: 0.3807\n",
            "Epoch 6/50\n",
            "240/240 [==============================] - 1s 6ms/step - loss: 0.4979 - accuracy: 0.7716 - f1_m: 0.4611 - precision_m: 0.6280 - recall_m: 0.3997 - val_loss: 0.4117 - val_accuracy: 0.8079 - val_f1_m: 0.3936 - val_precision_m: 0.6068 - val_recall_m: 0.3144\n",
            "Epoch 7/50\n",
            "240/240 [==============================] - 1s 6ms/step - loss: 0.4951 - accuracy: 0.7712 - f1_m: 0.4610 - precision_m: 0.6141 - recall_m: 0.3983 - val_loss: 0.4155 - val_accuracy: 0.8127 - val_f1_m: 0.4481 - val_precision_m: 0.6384 - val_recall_m: 0.3862\n",
            "Epoch 8/50\n",
            "240/240 [==============================] - 1s 6ms/step - loss: 0.4712 - accuracy: 0.7812 - f1_m: 0.4903 - precision_m: 0.6257 - recall_m: 0.4364 - val_loss: 0.4522 - val_accuracy: 0.8165 - val_f1_m: 0.4712 - val_precision_m: 0.6505 - val_recall_m: 0.4099\n",
            "Epoch 9/50\n",
            "240/240 [==============================] - 1s 6ms/step - loss: 0.4737 - accuracy: 0.7778 - f1_m: 0.4797 - precision_m: 0.6467 - recall_m: 0.4053 - val_loss: 0.4404 - val_accuracy: 0.8165 - val_f1_m: 0.4606 - val_precision_m: 0.6315 - val_recall_m: 0.4014\n",
            "Epoch 10/50\n",
            "240/240 [==============================] - 1s 6ms/step - loss: 0.4773 - accuracy: 0.7759 - f1_m: 0.4763 - precision_m: 0.6248 - recall_m: 0.4119 - val_loss: 0.4064 - val_accuracy: 0.8212 - val_f1_m: 0.4512 - val_precision_m: 0.6544 - val_recall_m: 0.3775\n",
            "Epoch 11/50\n",
            "240/240 [==============================] - 1s 6ms/step - loss: 0.4676 - accuracy: 0.7769 - f1_m: 0.4724 - precision_m: 0.6133 - recall_m: 0.4152 - val_loss: 0.4234 - val_accuracy: 0.8202 - val_f1_m: 0.5105 - val_precision_m: 0.6524 - val_recall_m: 0.4676\n",
            "Epoch 12/50\n",
            "240/240 [==============================] - 1s 6ms/step - loss: 0.4658 - accuracy: 0.7848 - f1_m: 0.5041 - precision_m: 0.6788 - recall_m: 0.4332 - val_loss: 0.4022 - val_accuracy: 0.8174 - val_f1_m: 0.4484 - val_precision_m: 0.6320 - val_recall_m: 0.3804\n",
            "Epoch 13/50\n",
            "240/240 [==============================] - 1s 6ms/step - loss: 0.4546 - accuracy: 0.7897 - f1_m: 0.5230 - precision_m: 0.6817 - recall_m: 0.4525 - val_loss: 0.4193 - val_accuracy: 0.8212 - val_f1_m: 0.4887 - val_precision_m: 0.6466 - val_recall_m: 0.4378\n",
            "Epoch 14/50\n",
            "240/240 [==============================] - 1s 6ms/step - loss: 0.4659 - accuracy: 0.7849 - f1_m: 0.4846 - precision_m: 0.6559 - recall_m: 0.4190 - val_loss: 0.4704 - val_accuracy: 0.8221 - val_f1_m: 0.5667 - val_precision_m: 0.6118 - val_recall_m: 0.5770\n",
            "Epoch 15/50\n",
            "240/240 [==============================] - 1s 6ms/step - loss: 0.4700 - accuracy: 0.7814 - f1_m: 0.4954 - precision_m: 0.6539 - recall_m: 0.4397 - val_loss: 0.4228 - val_accuracy: 0.8155 - val_f1_m: 0.4750 - val_precision_m: 0.6191 - val_recall_m: 0.4259\n",
            "Epoch 16/50\n",
            "240/240 [==============================] - 1s 6ms/step - loss: 0.4614 - accuracy: 0.7854 - f1_m: 0.5041 - precision_m: 0.6764 - recall_m: 0.4343 - val_loss: 0.4199 - val_accuracy: 0.8193 - val_f1_m: 0.4503 - val_precision_m: 0.6413 - val_recall_m: 0.3830\n",
            "Epoch 17/50\n",
            "240/240 [==============================] - 1s 6ms/step - loss: 0.4556 - accuracy: 0.7826 - f1_m: 0.5020 - precision_m: 0.6406 - recall_m: 0.4426 - val_loss: 0.4225 - val_accuracy: 0.8184 - val_f1_m: 0.4625 - val_precision_m: 0.6761 - val_recall_m: 0.3913\n",
            "Epoch 18/50\n",
            "240/240 [==============================] - 1s 6ms/step - loss: 0.4601 - accuracy: 0.7801 - f1_m: 0.4915 - precision_m: 0.6411 - recall_m: 0.4304 - val_loss: 0.4288 - val_accuracy: 0.8155 - val_f1_m: 0.4398 - val_precision_m: 0.6302 - val_recall_m: 0.3725\n",
            "Epoch 19/50\n",
            "240/240 [==============================] - 1s 6ms/step - loss: 0.4667 - accuracy: 0.7833 - f1_m: 0.4750 - precision_m: 0.6277 - recall_m: 0.4052 - val_loss: 0.4111 - val_accuracy: 0.8146 - val_f1_m: 0.4859 - val_precision_m: 0.6131 - val_recall_m: 0.4461\n",
            "Epoch 20/50\n",
            "240/240 [==============================] - 1s 6ms/step - loss: 0.4450 - accuracy: 0.7933 - f1_m: 0.5134 - precision_m: 0.6372 - recall_m: 0.4605 - val_loss: 0.3939 - val_accuracy: 0.8193 - val_f1_m: 0.4599 - val_precision_m: 0.6275 - val_recall_m: 0.3956\n",
            "Epoch 21/50\n",
            "240/240 [==============================] - 1s 6ms/step - loss: 0.4621 - accuracy: 0.7784 - f1_m: 0.5102 - precision_m: 0.6718 - recall_m: 0.4406 - val_loss: 0.4095 - val_accuracy: 0.8165 - val_f1_m: 0.4228 - val_precision_m: 0.6246 - val_recall_m: 0.3492\n",
            "Epoch 22/50\n",
            "240/240 [==============================] - 1s 6ms/step - loss: 0.4499 - accuracy: 0.7913 - f1_m: 0.5171 - precision_m: 0.6749 - recall_m: 0.4498 - val_loss: 0.4400 - val_accuracy: 0.8155 - val_f1_m: 0.5675 - val_precision_m: 0.5924 - val_recall_m: 0.5911\n",
            "Epoch 23/50\n",
            "240/240 [==============================] - 1s 6ms/step - loss: 0.4585 - accuracy: 0.7845 - f1_m: 0.5067 - precision_m: 0.6361 - recall_m: 0.4527 - val_loss: 0.4163 - val_accuracy: 0.8174 - val_f1_m: 0.4609 - val_precision_m: 0.6196 - val_recall_m: 0.4018\n",
            "Epoch 24/50\n",
            "240/240 [==============================] - 1s 6ms/step - loss: 0.4852 - accuracy: 0.7700 - f1_m: 0.4905 - precision_m: 0.6408 - recall_m: 0.4251 - val_loss: 0.4063 - val_accuracy: 0.8146 - val_f1_m: 0.5488 - val_precision_m: 0.6000 - val_recall_m: 0.5560\n",
            "Epoch 25/50\n",
            "240/240 [==============================] - 1s 6ms/step - loss: 0.4698 - accuracy: 0.7838 - f1_m: 0.5114 - precision_m: 0.6880 - recall_m: 0.4318 - val_loss: 0.4193 - val_accuracy: 0.8165 - val_f1_m: 0.4651 - val_precision_m: 0.6147 - val_recall_m: 0.4102\n",
            "Epoch 26/50\n",
            "240/240 [==============================] - 1s 6ms/step - loss: 0.4512 - accuracy: 0.7914 - f1_m: 0.5388 - precision_m: 0.7081 - recall_m: 0.4631 - val_loss: 0.3987 - val_accuracy: 0.8061 - val_f1_m: 0.3518 - val_precision_m: 0.6233 - val_recall_m: 0.2771\n",
            "Epoch 27/50\n",
            "240/240 [==============================] - 1s 6ms/step - loss: 0.4653 - accuracy: 0.7839 - f1_m: 0.4636 - precision_m: 0.6650 - recall_m: 0.3840 - val_loss: 0.4181 - val_accuracy: 0.8221 - val_f1_m: 0.5552 - val_precision_m: 0.6311 - val_recall_m: 0.5424\n",
            "Epoch 28/50\n",
            "240/240 [==============================] - 1s 6ms/step - loss: 0.4612 - accuracy: 0.7736 - f1_m: 0.4963 - precision_m: 0.6414 - recall_m: 0.4348 - val_loss: 0.4429 - val_accuracy: 0.8212 - val_f1_m: 0.5853 - val_precision_m: 0.6048 - val_recall_m: 0.6154\n",
            "Epoch 29/50\n",
            "240/240 [==============================] - 1s 6ms/step - loss: 0.4449 - accuracy: 0.7915 - f1_m: 0.5280 - precision_m: 0.7045 - recall_m: 0.4552 - val_loss: 0.4017 - val_accuracy: 0.8165 - val_f1_m: 0.4547 - val_precision_m: 0.6480 - val_recall_m: 0.3867\n",
            "Epoch 30/50\n",
            "240/240 [==============================] - 1s 6ms/step - loss: 0.4438 - accuracy: 0.8011 - f1_m: 0.5217 - precision_m: 0.6824 - recall_m: 0.4570 - val_loss: 0.3927 - val_accuracy: 0.8193 - val_f1_m: 0.4970 - val_precision_m: 0.6045 - val_recall_m: 0.4542\n",
            "Epoch 31/50\n",
            "240/240 [==============================] - 1s 6ms/step - loss: 0.4369 - accuracy: 0.7962 - f1_m: 0.5424 - precision_m: 0.6693 - recall_m: 0.4855 - val_loss: 0.3957 - val_accuracy: 0.8193 - val_f1_m: 0.4308 - val_precision_m: 0.6453 - val_recall_m: 0.3554\n",
            "Epoch 32/50\n",
            "240/240 [==============================] - 1s 6ms/step - loss: 0.4402 - accuracy: 0.7924 - f1_m: 0.5176 - precision_m: 0.6653 - recall_m: 0.4502 - val_loss: 0.3955 - val_accuracy: 0.8108 - val_f1_m: 0.3849 - val_precision_m: 0.6368 - val_recall_m: 0.3084\n",
            "Epoch 33/50\n",
            "240/240 [==============================] - 1s 6ms/step - loss: 0.4473 - accuracy: 0.7918 - f1_m: 0.5225 - precision_m: 0.6994 - recall_m: 0.4432 - val_loss: 0.3943 - val_accuracy: 0.8193 - val_f1_m: 0.4648 - val_precision_m: 0.6244 - val_recall_m: 0.4019\n",
            "Epoch 34/50\n",
            "240/240 [==============================] - 1s 6ms/step - loss: 0.4466 - accuracy: 0.7895 - f1_m: 0.5355 - precision_m: 0.6808 - recall_m: 0.4712 - val_loss: 0.4212 - val_accuracy: 0.8184 - val_f1_m: 0.5234 - val_precision_m: 0.6346 - val_recall_m: 0.4867\n",
            "Epoch 35/50\n",
            "240/240 [==============================] - 1s 6ms/step - loss: 0.4601 - accuracy: 0.7841 - f1_m: 0.5207 - precision_m: 0.6743 - recall_m: 0.4576 - val_loss: 0.4156 - val_accuracy: 0.8202 - val_f1_m: 0.5026 - val_precision_m: 0.6360 - val_recall_m: 0.4539\n",
            "Epoch 36/50\n",
            "240/240 [==============================] - 1s 6ms/step - loss: 0.4510 - accuracy: 0.7886 - f1_m: 0.5409 - precision_m: 0.6753 - recall_m: 0.4805 - val_loss: 0.4149 - val_accuracy: 0.8193 - val_f1_m: 0.4973 - val_precision_m: 0.6358 - val_recall_m: 0.4481\n",
            "Epoch 37/50\n",
            "240/240 [==============================] - 1s 6ms/step - loss: 0.4424 - accuracy: 0.7935 - f1_m: 0.5183 - precision_m: 0.6733 - recall_m: 0.4473 - val_loss: 0.3875 - val_accuracy: 0.8127 - val_f1_m: 0.3923 - val_precision_m: 0.6124 - val_recall_m: 0.3182\n",
            "Epoch 38/50\n",
            "240/240 [==============================] - 1s 6ms/step - loss: 0.4584 - accuracy: 0.7865 - f1_m: 0.5324 - precision_m: 0.6853 - recall_m: 0.4622 - val_loss: 0.4182 - val_accuracy: 0.8240 - val_f1_m: 0.5029 - val_precision_m: 0.6570 - val_recall_m: 0.4462\n",
            "Epoch 39/50\n",
            "240/240 [==============================] - 1s 6ms/step - loss: 0.4333 - accuracy: 0.8009 - f1_m: 0.5307 - precision_m: 0.6883 - recall_m: 0.4580 - val_loss: 0.4071 - val_accuracy: 0.8221 - val_f1_m: 0.5345 - val_precision_m: 0.6325 - val_recall_m: 0.5046\n",
            "Epoch 40/50\n",
            "240/240 [==============================] - 1s 6ms/step - loss: 0.4588 - accuracy: 0.7796 - f1_m: 0.5142 - precision_m: 0.6504 - recall_m: 0.4522 - val_loss: 0.3875 - val_accuracy: 0.8202 - val_f1_m: 0.4377 - val_precision_m: 0.6384 - val_recall_m: 0.3658\n",
            "Epoch 41/50\n",
            "240/240 [==============================] - 1s 6ms/step - loss: 0.4398 - accuracy: 0.7898 - f1_m: 0.5222 - precision_m: 0.6977 - recall_m: 0.4540 - val_loss: 0.4582 - val_accuracy: 0.8070 - val_f1_m: 0.5838 - val_precision_m: 0.5649 - val_recall_m: 0.6502\n",
            "Epoch 42/50\n",
            "240/240 [==============================] - 1s 6ms/step - loss: 0.4542 - accuracy: 0.7800 - f1_m: 0.5073 - precision_m: 0.6640 - recall_m: 0.4414 - val_loss: 0.3963 - val_accuracy: 0.8193 - val_f1_m: 0.4388 - val_precision_m: 0.6344 - val_recall_m: 0.3675\n",
            "Epoch 43/50\n",
            "240/240 [==============================] - 1s 6ms/step - loss: 0.4377 - accuracy: 0.7947 - f1_m: 0.5069 - precision_m: 0.6680 - recall_m: 0.4384 - val_loss: 0.3878 - val_accuracy: 0.8165 - val_f1_m: 0.4161 - val_precision_m: 0.6229 - val_recall_m: 0.3439\n",
            "Epoch 44/50\n",
            "240/240 [==============================] - 1s 6ms/step - loss: 0.4456 - accuracy: 0.7887 - f1_m: 0.5307 - precision_m: 0.6845 - recall_m: 0.4688 - val_loss: 0.3907 - val_accuracy: 0.8136 - val_f1_m: 0.4764 - val_precision_m: 0.5957 - val_recall_m: 0.4302\n",
            "Epoch 45/50\n",
            "240/240 [==============================] - 1s 6ms/step - loss: 0.4431 - accuracy: 0.7947 - f1_m: 0.5347 - precision_m: 0.6733 - recall_m: 0.4781 - val_loss: 0.4531 - val_accuracy: 0.7938 - val_f1_m: 0.5760 - val_precision_m: 0.5374 - val_recall_m: 0.6675\n",
            "Epoch 46/50\n",
            "240/240 [==============================] - 1s 6ms/step - loss: 0.4340 - accuracy: 0.7980 - f1_m: 0.5471 - precision_m: 0.6725 - recall_m: 0.4930 - val_loss: 0.3924 - val_accuracy: 0.8184 - val_f1_m: 0.4798 - val_precision_m: 0.6171 - val_recall_m: 0.4249\n",
            "Epoch 47/50\n",
            "240/240 [==============================] - 1s 6ms/step - loss: 0.4402 - accuracy: 0.7950 - f1_m: 0.5402 - precision_m: 0.6739 - recall_m: 0.4835 - val_loss: 0.4164 - val_accuracy: 0.8231 - val_f1_m: 0.5482 - val_precision_m: 0.6455 - val_recall_m: 0.5185\n",
            "Epoch 48/50\n",
            "240/240 [==============================] - 1s 6ms/step - loss: 0.4333 - accuracy: 0.8035 - f1_m: 0.5759 - precision_m: 0.7066 - recall_m: 0.5156 - val_loss: 0.3906 - val_accuracy: 0.8146 - val_f1_m: 0.4085 - val_precision_m: 0.6428 - val_recall_m: 0.3318\n",
            "Epoch 49/50\n",
            "240/240 [==============================] - 1s 6ms/step - loss: 0.4515 - accuracy: 0.7843 - f1_m: 0.4980 - precision_m: 0.6657 - recall_m: 0.4251 - val_loss: 0.4919 - val_accuracy: 0.7767 - val_f1_m: 0.5807 - val_precision_m: 0.5089 - val_recall_m: 0.7288\n",
            "Epoch 50/50\n",
            "240/240 [==============================] - 1s 6ms/step - loss: 0.4386 - accuracy: 0.7951 - f1_m: 0.5109 - precision_m: 0.6828 - recall_m: 0.4346 - val_loss: 0.4028 - val_accuracy: 0.8221 - val_f1_m: 0.5344 - val_precision_m: 0.6201 - val_recall_m: 0.5087\n"
          ],
          "name": "stdout"
        }
      ]
    },
    {
      "cell_type": "markdown",
      "metadata": {
        "id": "PSWkyvLH9uVD"
      },
      "source": [
        "### Model Evaluation"
      ]
    },
    {
      "cell_type": "code",
      "metadata": {
        "colab": {
          "base_uri": "https://localhost:8080/"
        },
        "id": "tuhY1GRv9uVD",
        "outputId": "a3a14a71-97ff-4513-c0c2-db1b36b366c0"
      },
      "source": [
        "result = model.evaluate(X_test,y_test)\n",
        "dict(zip(model.metrics_names, result))"
      ],
      "execution_count": null,
      "outputs": [
        {
          "output_type": "stream",
          "text": [
            "34/34 [==============================] - 0s 3ms/step - loss: 0.4028 - accuracy: 0.8221 - f1_m: 0.5425 - precision_m: 0.6153 - recall_m: 0.5167\n"
          ],
          "name": "stdout"
        },
        {
          "output_type": "execute_result",
          "data": {
            "text/plain": [
              "{'accuracy': 0.8221381306648254,\n",
              " 'f1_m': 0.5424721837043762,\n",
              " 'loss': 0.4027644991874695,\n",
              " 'precision_m': 0.6152693033218384,\n",
              " 'recall_m': 0.5167007446289062}"
            ]
          },
          "metadata": {
            "tags": []
          },
          "execution_count": 16
        }
      ]
    },
    {
      "cell_type": "markdown",
      "metadata": {
        "id": "LHOsYAUY9uVD"
      },
      "source": [
        "### Final Conclusions"
      ]
    },
    {
      "cell_type": "code",
      "metadata": {
        "colab": {
          "base_uri": "https://localhost:8080/",
          "height": 294
        },
        "id": "mwOwqvbH9uVE",
        "outputId": "55fa7b1e-f465-4b09-8aea-0b1f596df9fb"
      },
      "source": [
        "##  while the model maybe accurate to upto certain mark, but due to high amount of variable features and very limited dataset size,\n",
        "##  the accuracy is not peaking.\n",
        "\n",
        "#accuracy\n",
        "plt.plot(history.history['accuracy'])\n",
        "plt.plot(history.history['val_accuracy'])\n",
        "plt.title('model accuracy')\n",
        "plt.ylabel('accuracy')\n",
        "plt.xlabel('epoch')\n",
        "plt.legend(['train', 'test'], loc='upper left')\n",
        "plt.show()"
      ],
      "execution_count": null,
      "outputs": [
        {
          "output_type": "display_data",
          "data": {
            "image/png": "[encoded data removed]",
            "text/plain": [
              "<Figure size 432x288 with 1 Axes>"
            ]
          },
          "metadata": {
            "tags": [],
            "needs_background": "light"
          }
        }
      ]
    },
    {
      "cell_type": "code",
      "metadata": {
        "colab": {
          "base_uri": "https://localhost:8080/",
          "height": 294
        },
        "id": "SFyGR7PCs6_a",
        "outputId": "84ecccdf-1608-4c78-f48c-a99c840f4192"
      },
      "source": [
        "#loss\n",
        "plt.plot(history.history['loss'])\n",
        "plt.plot(history.history['val_loss'])\n",
        "plt.title('model loss')\n",
        "plt.ylabel('loss')\n",
        "plt.xlabel('epoch')\n",
        "plt.legend(['train', 'test'], loc='upper left')\n",
        "plt.show()"
      ],
      "execution_count": null,
      "outputs": [
        {
          "output_type": "display_data",
          "data": {
            "image/png": "[encoded data removed]",
            "text/plain": [
              "<Figure size 432x288 with 1 Axes>"
            ]
          },
          "metadata": {
            "tags": [],
            "needs_background": "light"
          }
        }
      ]
    },
    {
      "cell_type": "code",
      "metadata": {
        "colab": {
          "base_uri": "https://localhost:8080/",
          "height": 294
        },
        "id": "YkHbyBP3uy_Z",
        "outputId": "44e5d35a-e8ac-4b30-b703-b8f2a6cc0256"
      },
      "source": [
        "# f1_score\n",
        "plt.plot(history.history['f1_m'], label='train f1_m')\n",
        "plt.plot(history.history['val_f1_m'], label='val f1_m')\n",
        "plt.title('model f1 score')\n",
        "plt.ylabel('f1')\n",
        "plt.xlabel('epoch')\n",
        "plt.legend(['train', 'test'], loc='upper left')\n",
        "plt.show()"
      ],
      "execution_count": null,
      "outputs": [
        {
          "output_type": "display_data",
          "data": {
            "image/png": "[encoded data removed]",
            "text/plain": [
              "<Figure size 432x288 with 1 Axes>"
            ]
          },
          "metadata": {
            "tags": [],
            "needs_background": "light"
          }
        }
      ]
    },
    {
      "cell_type": "code",
      "metadata": {
        "colab": {
          "base_uri": "https://localhost:8080/",
          "height": 294
        },
        "id": "4UVqOaxRvI1Q",
        "outputId": "2a168185-dce2-4d4a-cb73-9680dfa9f023"
      },
      "source": [
        "# precision\n",
        "plt.plot(history.history['precision_m'], label='train precision_m')\n",
        "plt.plot(history.history['val_precision_m'], label='val precision_m')\n",
        "plt.title('model precision')\n",
        "plt.ylabel('precision')\n",
        "plt.xlabel('epoch')\n",
        "plt.legend(['train', 'test'], loc='upper left')\n",
        "plt.show()"
      ],
      "execution_count": null,
      "outputs": [
        {
          "output_type": "display_data",
          "data": {
            "image/png": "[encoded data removed]",
            "text/plain": [
              "<Figure size 432x288 with 1 Axes>"
            ]
          },
          "metadata": {
            "tags": [],
            "needs_background": "light"
          }
        }
      ]
    },
    {
      "cell_type": "code",
      "metadata": {
        "colab": {
          "base_uri": "https://localhost:8080/",
          "height": 294
        },
        "id": "g2--R6FbvI5m",
        "outputId": "78914e2d-84c0-4d64-b4c1-a5aaf41b7b7b"
      },
      "source": [
        "# recall\n",
        "plt.plot(history.history['recall_m'], label='train recall_m')\n",
        "plt.plot(history.history['val_recall_m'], label='val recall_m')\n",
        "plt.title('model recall')\n",
        "plt.ylabel('recall')\n",
        "plt.xlabel('epoch')\n",
        "plt.legend(['train', 'test'], loc='upper left')\n",
        "plt.show()"
      ],
      "execution_count": null,
      "outputs": [
        {
          "output_type": "display_data",
          "data": {
            "image/png": "[encoded data removed]",
            "text/plain": [
              "<Figure size 432x288 with 1 Axes>"
            ]
          },
          "metadata": {
            "tags": [],
            "needs_background": "light"
          }
        }
      ]
    }
  ]
}